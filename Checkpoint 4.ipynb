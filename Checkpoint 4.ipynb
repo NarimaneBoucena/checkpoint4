{
 "cells": [
  {
   "cell_type": "code",
   "execution_count": 1,
   "id": "aa4929f9",
   "metadata": {},
   "outputs": [
    {
     "name": "stdout",
     "output_type": "stream",
     "text": [
      "35\n"
     ]
    }
   ],
   "source": [
    "#exercice n1\n",
    "def max_number(x,y):\n",
    "    if x>y:# the condition\n",
    "        return x\n",
    "    return y\n",
    "def max_of_three( x, y, z ):\n",
    "    return max_number( x, max_number( y, z ) )\n",
    "print(max_of_three(20,35,19))"
   ]
  },
  {
   "cell_type": "code",
   "execution_count": 2,
   "id": "beafc7d8",
   "metadata": {},
   "outputs": [
    {
     "name": "stdout",
     "output_type": "stream",
     "text": [
      "enter number1: 40\n",
      "enter number2: 10\n"
     ]
    },
    {
     "data": {
      "text/plain": [
       "(50, 30)"
      ]
     },
     "execution_count": 2,
     "metadata": {},
     "output_type": "execute_result"
    }
   ],
   "source": [
    "#exercice 2\n",
    "def calculator():\n",
    "    a=int(input(\"enter number1: \"))\n",
    "    b=int(input(\"enter number2: \"))\n",
    "    Sum=a+b\n",
    "    Sub=a-b\n",
    "    return Sum,Sub\n",
    "calculator()"
   ]
  },
  {
   "cell_type": "code",
   "execution_count": 7,
   "id": "3ae4730d",
   "metadata": {},
   "outputs": [
    {
     "name": "stdout",
     "output_type": "stream",
     "text": [
      "list of pair [1, 3, 5, 7, 9]\n",
      "list of odd [2, 4, 6, 8]\n"
     ]
    }
   ],
   "source": [
    "#exercice 3\n",
    "def som(list):\n",
    "    x=0\n",
    "    for i in list:\n",
    "        x=x+int(i)\n",
    "    return(x)\n",
    "def multiply(list):\n",
    "    x=1\n",
    "    for i in list:\n",
    "        x=x*int(i)\n",
    "    return(x)\n",
    "def extract (list):\n",
    "    x=[]\n",
    "    y=[]\n",
    "    for i in list:\n",
    "        if(list.index(i)%2==0):\n",
    "            x.append(i)\n",
    "        else:\n",
    "            y.append(i)\n",
    "    print(\"list of pair\",x)\n",
    "    print(\"list of odd\",y)\n",
    "list1=[1,2,3,4,5,6,7,8,9]   \n",
    "\n",
    "extract(list1) \n",
    "    "
   ]
  },
  {
   "cell_type": "code",
   "execution_count": 21,
   "id": "d17cb2f2",
   "metadata": {},
   "outputs": [
    {
     "name": "stdout",
     "output_type": "stream",
     "text": [
      "enter your list of word: green-red-yellow-black-white\n"
     ]
    },
    {
     "data": {
      "text/plain": [
       "'black-green-red-white-yellow'"
      ]
     },
     "execution_count": 21,
     "metadata": {},
     "output_type": "execute_result"
    }
   ],
   "source": [
    "#exercice 4\n",
    "txt=input(\"enter your list of word: \")\n",
    "list=txt.split(\"-\")\n",
    "list.sort()\n",
    "\"-\".join(list)"
   ]
  },
  {
   "cell_type": "code",
   "execution_count": 7,
   "id": "df656e9a",
   "metadata": {},
   "outputs": [
    {
     "data": {
      "text/plain": [
       "18"
      ]
     },
     "execution_count": 7,
     "metadata": {},
     "output_type": "execute_result"
    }
   ],
   "source": [
    "from math import sqrt\n",
    "def Bonus(D):\n",
    "    Q=round(sqrt(2*50*D/30))\n",
    "    return Q\n",
    "Bonus(100)\n",
    "    "
   ]
  },
  {
   "cell_type": "code",
   "execution_count": 4,
   "id": "978fd599",
   "metadata": {},
   "outputs": [],
   "source": [
    "#exercice bonus\n",
    "from math import sqrt\n",
    "def Bonus():\n",
    "    Q=[]\n",
    "    d=input(\"enter numb D: \")\n",
    "    D=d.split(\",\")\n",
    "    for i in D:\n",
    "        q=round(sqrt((2*50*int(i))/30))\n",
    "        Q.append(q)\n",
    "    return Q"
   ]
  },
  {
   "cell_type": "code",
   "execution_count": 5,
   "id": "674e33eb",
   "metadata": {},
   "outputs": [],
   "source": [
    "def my_sqrt(x):\n",
    "    return x**(0.5)\n",
    "\n",
    "def My_Bonus():\n",
    "    Q=[]\n",
    "    d=input(\"enter your comma-separated sequence\")\n",
    "    D=d.split(\",\")\n",
    "    for i in D:        \n",
    "        q=round(my_sqrt((2*50*int(i))/30))\n",
    "        Q.append(q)\n",
    "    return Q"
   ]
  },
  {
   "cell_type": "code",
   "execution_count": null,
   "id": "bd6ae946",
   "metadata": {},
   "outputs": [],
   "source": []
  },
  {
   "cell_type": "code",
   "execution_count": null,
   "id": "59ebae69",
   "metadata": {},
   "outputs": [],
   "source": []
  },
  {
   "cell_type": "code",
   "execution_count": null,
   "id": "8a07ac99",
   "metadata": {},
   "outputs": [],
   "source": [
    "\n"
   ]
  }
 ],
 "metadata": {
  "kernelspec": {
   "display_name": "Python 3 (ipykernel)",
   "language": "python",
   "name": "python3"
  },
  "language_info": {
   "codemirror_mode": {
    "name": "ipython",
    "version": 3
   },
   "file_extension": ".py",
   "mimetype": "text/x-python",
   "name": "python",
   "nbconvert_exporter": "python",
   "pygments_lexer": "ipython3",
   "version": "3.9.7"
  }
 },
 "nbformat": 4,
 "nbformat_minor": 5
}
